{
 "cells": [
  {
   "cell_type": "markdown",
   "metadata": {},
   "source": [
    "# Import packages"
   ]
  },
  {
   "cell_type": "code",
   "execution_count": 1,
   "metadata": {
    "ExecuteTime": {
     "end_time": "2020-09-29T13:06:56.632622Z",
     "start_time": "2020-09-29T13:06:53.176425Z"
    }
   },
   "outputs": [],
   "source": [
    "%matplotlib inline\n",
    "import os\n",
    "import pandas as pd\n",
    "import numpy as np\n",
    "import matplotlib.pyplot as plt\n",
    "import seaborn as sns\n",
    "import sys\n",
    "#sys.path.insert(1, r'C:/Users/roger/Documents/GitHub/CPR/CPR')"
   ]
  },
  {
   "cell_type": "code",
   "execution_count": null,
   "metadata": {
    "ExecuteTime": {
     "end_time": "2020-09-29T13:06:56.632622Z",
     "start_time": "2020-09-29T13:06:53.176425Z"
    }
   },
   "outputs": [],
   "source": [
    "#os.path.normpath(os.getcwd() + os.sep + os.pardir)"
   ]
  },
  {
   "cell_type": "code",
   "execution_count": 4,
   "metadata": {
    "ExecuteTime": {
     "end_time": "2020-09-29T13:06:56.632622Z",
     "start_time": "2020-09-29T13:06:53.176425Z"
    }
   },
   "outputs": [],
   "source": [
    "#sys.path.insert(1, '../CPR')\n",
    "#import analysis\n",
    "#import main\n",
    "\n",
    "sys.path.append('/Users/TessaLoRiggio/CEDIA Dropbox/Tessa LoRiggio/RSI/srd_master')\n",
    "sys.path.append('/Users/TessaLoRiggio/CEDIA Dropbox/Tessa LoRiggio/RSI/srpp_master')\n",
    "sys.path.append('/Users/TessaLoRiggio/CEDIA Dropbox/Tessa LoRiggio/RSI/CPR_master_mac2015/CPR')\n",
    "\n",
    "pd.options.display.max_columns = None\n",
    "pd.options.display.max_rows = None"
   ]
  },
  {
   "cell_type": "code",
   "execution_count": null,
   "metadata": {},
   "outputs": [],
   "source": [
    "#nj = (os.getcwd()=='C:\\\\Users\\\\80002036\\\\CEDIA Dropbox\\\\Nicholas-James Clavet\\\\Modeles\\\\srd\\\\notebooks')\n",
    "\n",
    "#if nj :\n",
    "#    sys.path.append('C:/Users/80002036/Documents/GitHub/srd')\n",
    "#    sys.path.append('C:/Users/80002036/Documents/GitHub/srpp')\n",
    "#    print('Utilisateur : NJ')\n",
    "\n",
    "#if not nj:\n",
    "#    sys.path.append('C:/Users/roger/Documents/GitHub/srd')\n",
    "#    sys.path.append('C:/Users/roger/Documents/GitHub/srpp')\n",
    "#    print('Utilisateur : Roger')"
   ]
  },
  {
   "cell_type": "markdown",
   "metadata": {},
   "source": [
    "# Import dataset"
   ]
  },
  {
   "cell_type": "code",
   "execution_count": 5,
   "metadata": {
    "ExecuteTime": {
     "end_time": "2020-09-29T13:06:59.821979Z",
     "start_time": "2020-09-29T13:06:56.643760Z"
    }
   },
   "outputs": [
    {
     "data": {
      "text/html": [
       "<div>\n",
       "<style scoped>\n",
       "    .dataframe tbody tr th:only-of-type {\n",
       "        vertical-align: middle;\n",
       "    }\n",
       "\n",
       "    .dataframe tbody tr th {\n",
       "        vertical-align: top;\n",
       "    }\n",
       "\n",
       "    .dataframe thead th {\n",
       "        text-align: right;\n",
       "    }\n",
       "</style>\n",
       "<table border=\"1\" class=\"dataframe\">\n",
       "  <thead>\n",
       "    <tr style=\"text-align: right;\">\n",
       "      <th></th>\n",
       "      <th>byear</th>\n",
       "      <th>sex</th>\n",
       "      <th>ret_age</th>\n",
       "      <th>education</th>\n",
       "      <th>init_wage</th>\n",
       "      <th>pension</th>\n",
       "      <th>bal_rrsp</th>\n",
       "      <th>bal_tfsa</th>\n",
       "      <th>bal_other_reg</th>\n",
       "      <th>bal_unreg</th>\n",
       "      <th>cont_rate_rrsp</th>\n",
       "      <th>cont_rate_tfsa</th>\n",
       "      <th>cont_rate_other_reg</th>\n",
       "      <th>cont_rate_unreg</th>\n",
       "      <th>withdrawal_rrsp</th>\n",
       "      <th>withdrawal_tfsa</th>\n",
       "      <th>withdrawal_other_reg</th>\n",
       "      <th>withdrawal_unreg</th>\n",
       "      <th>replacement_rate_db</th>\n",
       "      <th>rate_employee_db</th>\n",
       "      <th>income_previous_db</th>\n",
       "      <th>init_dc</th>\n",
       "      <th>rate_employee_dc</th>\n",
       "      <th>rate_employer_dc</th>\n",
       "      <th>s_byear</th>\n",
       "      <th>s_sex</th>\n",
       "      <th>s_ret_age</th>\n",
       "      <th>s_education</th>\n",
       "      <th>s_init_wage</th>\n",
       "      <th>s_pension</th>\n",
       "      <th>s_bal_rrsp</th>\n",
       "      <th>s_bal_tfsa</th>\n",
       "      <th>s_bal_other_reg</th>\n",
       "      <th>s_bal_unreg</th>\n",
       "      <th>s_cont_rate_rrsp</th>\n",
       "      <th>s_cont_rate_tfsa</th>\n",
       "      <th>s_cont_rate_other_reg</th>\n",
       "      <th>s_cont_rate_unreg</th>\n",
       "      <th>s_withdrawal_rrsp</th>\n",
       "      <th>s_withdrawal_tfsa</th>\n",
       "      <th>s_withdrawal_other_reg</th>\n",
       "      <th>s_withdrawal_unreg</th>\n",
       "      <th>s_replacement_rate_db</th>\n",
       "      <th>s_rate_employee_db</th>\n",
       "      <th>s_income_previous_db</th>\n",
       "      <th>s_init_dc</th>\n",
       "      <th>s_rate_employee_dc</th>\n",
       "      <th>s_rate_employer_dc</th>\n",
       "      <th>weight</th>\n",
       "      <th>couple</th>\n",
       "      <th>prov</th>\n",
       "      <th>first_residence</th>\n",
       "      <th>second_residence</th>\n",
       "      <th>price_first_residence</th>\n",
       "      <th>price_second_residence</th>\n",
       "      <th>business</th>\n",
       "      <th>price_business</th>\n",
       "      <th>mix_bonds</th>\n",
       "      <th>mix_bills</th>\n",
       "      <th>mix_equity</th>\n",
       "      <th>fee</th>\n",
       "      <th>fee_equity</th>\n",
       "      <th>credit_card</th>\n",
       "      <th>personal_loan</th>\n",
       "      <th>student_loan</th>\n",
       "      <th>car_loan</th>\n",
       "      <th>credit_line</th>\n",
       "      <th>first_mortgage</th>\n",
       "      <th>second_mortgage</th>\n",
       "      <th>other_debt</th>\n",
       "      <th>credit_card_payment</th>\n",
       "      <th>personal_loan_payment</th>\n",
       "      <th>student_loan_payment</th>\n",
       "      <th>car_loan_payment</th>\n",
       "      <th>credit_line_payment</th>\n",
       "      <th>first_mortgage_payment</th>\n",
       "      <th>second_mortgage_payment</th>\n",
       "      <th>other_debt_payment</th>\n",
       "      <th>claim_age_cpp</th>\n",
       "      <th>s_claim_age_cpp</th>\n",
       "      <th>cap_gains_unreg</th>\n",
       "      <th>s_cap_gains_unreg</th>\n",
       "      <th>realized_losses_unreg</th>\n",
       "      <th>s_realized_losses_unreg</th>\n",
       "      <th>init_room_rrsp</th>\n",
       "      <th>init_room_tfsa</th>\n",
       "      <th>s_init_room_rrsp</th>\n",
       "      <th>s_init_room_tfsa</th>\n",
       "    </tr>\n",
       "  </thead>\n",
       "  <tbody>\n",
       "    <tr>\n",
       "      <th>0</th>\n",
       "      <td>1974.0</td>\n",
       "      <td>male</td>\n",
       "      <td>55.0</td>\n",
       "      <td>post-secondary</td>\n",
       "      <td>85000.0</td>\n",
       "      <td>NaN</td>\n",
       "      <td>39473.685622</td>\n",
       "      <td>8000.000000</td>\n",
       "      <td>NaN</td>\n",
       "      <td>1000.0</td>\n",
       "      <td>0.039474</td>\n",
       "      <td>0.083333</td>\n",
       "      <td>NaN</td>\n",
       "      <td>0.055556</td>\n",
       "      <td>0.0</td>\n",
       "      <td>0.0</td>\n",
       "      <td>NaN</td>\n",
       "      <td>0.0</td>\n",
       "      <td>NaN</td>\n",
       "      <td>NaN</td>\n",
       "      <td>NaN</td>\n",
       "      <td>NaN</td>\n",
       "      <td>NaN</td>\n",
       "      <td>NaN</td>\n",
       "      <td>1968.0</td>\n",
       "      <td>female</td>\n",
       "      <td>65.0</td>\n",
       "      <td>university</td>\n",
       "      <td>45000.0</td>\n",
       "      <td>NaN</td>\n",
       "      <td>41379.308701</td>\n",
       "      <td>1000.000000</td>\n",
       "      <td>NaN</td>\n",
       "      <td>300000.0</td>\n",
       "      <td>0.027586</td>\n",
       "      <td>0.017857</td>\n",
       "      <td>NaN</td>\n",
       "      <td>0.00</td>\n",
       "      <td>0.0</td>\n",
       "      <td>0.0</td>\n",
       "      <td>NaN</td>\n",
       "      <td>0.0</td>\n",
       "      <td>NaN</td>\n",
       "      <td>NaN</td>\n",
       "      <td>NaN</td>\n",
       "      <td>NaN</td>\n",
       "      <td>NaN</td>\n",
       "      <td>NaN</td>\n",
       "      <td>1</td>\n",
       "      <td>True</td>\n",
       "      <td>on</td>\n",
       "      <td>NaN</td>\n",
       "      <td>NaN</td>\n",
       "      <td>NaN</td>\n",
       "      <td>NaN</td>\n",
       "      <td>0.0</td>\n",
       "      <td>0.0</td>\n",
       "      <td>0.0</td>\n",
       "      <td>1.0</td>\n",
       "      <td>0.0</td>\n",
       "      <td>0.01</td>\n",
       "      <td>0.0</td>\n",
       "      <td>NaN</td>\n",
       "      <td>NaN</td>\n",
       "      <td>NaN</td>\n",
       "      <td>NaN</td>\n",
       "      <td>NaN</td>\n",
       "      <td>NaN</td>\n",
       "      <td>NaN</td>\n",
       "      <td>NaN</td>\n",
       "      <td>NaN</td>\n",
       "      <td>NaN</td>\n",
       "      <td>NaN</td>\n",
       "      <td>NaN</td>\n",
       "      <td>NaN</td>\n",
       "      <td>NaN</td>\n",
       "      <td>NaN</td>\n",
       "      <td>NaN</td>\n",
       "      <td>65.0</td>\n",
       "      <td>65.0</td>\n",
       "      <td>0</td>\n",
       "      <td>0.0</td>\n",
       "      <td>0</td>\n",
       "      <td>0.0</td>\n",
       "      <td>0</td>\n",
       "      <td>0</td>\n",
       "      <td>0.0</td>\n",
       "      <td>0.0</td>\n",
       "    </tr>\n",
       "    <tr>\n",
       "      <th>1</th>\n",
       "      <td>1968.0</td>\n",
       "      <td>male</td>\n",
       "      <td>67.0</td>\n",
       "      <td>university</td>\n",
       "      <td>40000.0</td>\n",
       "      <td>NaN</td>\n",
       "      <td>160000.000000</td>\n",
       "      <td>11242.105007</td>\n",
       "      <td>NaN</td>\n",
       "      <td>NaN</td>\n",
       "      <td>0.000000</td>\n",
       "      <td>0.000000</td>\n",
       "      <td>NaN</td>\n",
       "      <td>NaN</td>\n",
       "      <td>0.0</td>\n",
       "      <td>0.0</td>\n",
       "      <td>NaN</td>\n",
       "      <td>NaN</td>\n",
       "      <td>NaN</td>\n",
       "      <td>NaN</td>\n",
       "      <td>NaN</td>\n",
       "      <td>NaN</td>\n",
       "      <td>NaN</td>\n",
       "      <td>NaN</td>\n",
       "      <td>1974.0</td>\n",
       "      <td>female</td>\n",
       "      <td>67.0</td>\n",
       "      <td>high school</td>\n",
       "      <td>45000.0</td>\n",
       "      <td>NaN</td>\n",
       "      <td>50.000000</td>\n",
       "      <td>205.371898</td>\n",
       "      <td>NaN</td>\n",
       "      <td>37000.0</td>\n",
       "      <td>0.000000</td>\n",
       "      <td>0.000000</td>\n",
       "      <td>NaN</td>\n",
       "      <td>0.25</td>\n",
       "      <td>0.0</td>\n",
       "      <td>0.0</td>\n",
       "      <td>NaN</td>\n",
       "      <td>0.0</td>\n",
       "      <td>NaN</td>\n",
       "      <td>NaN</td>\n",
       "      <td>NaN</td>\n",
       "      <td>200.0</td>\n",
       "      <td>0.04</td>\n",
       "      <td>0.04</td>\n",
       "      <td>1</td>\n",
       "      <td>True</td>\n",
       "      <td>on</td>\n",
       "      <td>NaN</td>\n",
       "      <td>NaN</td>\n",
       "      <td>NaN</td>\n",
       "      <td>NaN</td>\n",
       "      <td>NaN</td>\n",
       "      <td>NaN</td>\n",
       "      <td>0.0</td>\n",
       "      <td>1.0</td>\n",
       "      <td>0.0</td>\n",
       "      <td>0.01</td>\n",
       "      <td>0.0</td>\n",
       "      <td>8000.0</td>\n",
       "      <td>NaN</td>\n",
       "      <td>NaN</td>\n",
       "      <td>NaN</td>\n",
       "      <td>NaN</td>\n",
       "      <td>NaN</td>\n",
       "      <td>NaN</td>\n",
       "      <td>NaN</td>\n",
       "      <td>250.0</td>\n",
       "      <td>NaN</td>\n",
       "      <td>NaN</td>\n",
       "      <td>NaN</td>\n",
       "      <td>NaN</td>\n",
       "      <td>NaN</td>\n",
       "      <td>NaN</td>\n",
       "      <td>NaN</td>\n",
       "      <td>65.0</td>\n",
       "      <td>60.0</td>\n",
       "      <td>0</td>\n",
       "      <td>0.0</td>\n",
       "      <td>0</td>\n",
       "      <td>0.0</td>\n",
       "      <td>0</td>\n",
       "      <td>0</td>\n",
       "      <td>0.0</td>\n",
       "      <td>0.0</td>\n",
       "    </tr>\n",
       "  </tbody>\n",
       "</table>\n",
       "</div>"
      ],
      "text/plain": [
       "    byear   sex  ret_age       education  init_wage  pension       bal_rrsp  \\\n",
       "0  1974.0  male     55.0  post-secondary    85000.0      NaN   39473.685622   \n",
       "1  1968.0  male     67.0      university    40000.0      NaN  160000.000000   \n",
       "\n",
       "       bal_tfsa  bal_other_reg  bal_unreg  cont_rate_rrsp  cont_rate_tfsa  \\\n",
       "0   8000.000000            NaN     1000.0        0.039474        0.083333   \n",
       "1  11242.105007            NaN        NaN        0.000000        0.000000   \n",
       "\n",
       "   cont_rate_other_reg  cont_rate_unreg  withdrawal_rrsp  withdrawal_tfsa  \\\n",
       "0                  NaN         0.055556              0.0              0.0   \n",
       "1                  NaN              NaN              0.0              0.0   \n",
       "\n",
       "   withdrawal_other_reg  withdrawal_unreg  replacement_rate_db  \\\n",
       "0                   NaN               0.0                  NaN   \n",
       "1                   NaN               NaN                  NaN   \n",
       "\n",
       "   rate_employee_db  income_previous_db  init_dc  rate_employee_dc  \\\n",
       "0               NaN                 NaN      NaN               NaN   \n",
       "1               NaN                 NaN      NaN               NaN   \n",
       "\n",
       "   rate_employer_dc  s_byear   s_sex  s_ret_age  s_education  s_init_wage  \\\n",
       "0               NaN   1968.0  female       65.0   university      45000.0   \n",
       "1               NaN   1974.0  female       67.0  high school      45000.0   \n",
       "\n",
       "   s_pension    s_bal_rrsp   s_bal_tfsa  s_bal_other_reg  s_bal_unreg  \\\n",
       "0        NaN  41379.308701  1000.000000              NaN     300000.0   \n",
       "1        NaN     50.000000   205.371898              NaN      37000.0   \n",
       "\n",
       "   s_cont_rate_rrsp  s_cont_rate_tfsa  s_cont_rate_other_reg  \\\n",
       "0          0.027586          0.017857                    NaN   \n",
       "1          0.000000          0.000000                    NaN   \n",
       "\n",
       "   s_cont_rate_unreg  s_withdrawal_rrsp  s_withdrawal_tfsa  \\\n",
       "0               0.00                0.0                0.0   \n",
       "1               0.25                0.0                0.0   \n",
       "\n",
       "   s_withdrawal_other_reg  s_withdrawal_unreg  s_replacement_rate_db  \\\n",
       "0                     NaN                 0.0                    NaN   \n",
       "1                     NaN                 0.0                    NaN   \n",
       "\n",
       "   s_rate_employee_db  s_income_previous_db  s_init_dc  s_rate_employee_dc  \\\n",
       "0                 NaN                   NaN        NaN                 NaN   \n",
       "1                 NaN                   NaN      200.0                0.04   \n",
       "\n",
       "   s_rate_employer_dc  weight  couple prov  first_residence  second_residence  \\\n",
       "0                 NaN       1    True   on              NaN               NaN   \n",
       "1                0.04       1    True   on              NaN               NaN   \n",
       "\n",
       "   price_first_residence  price_second_residence  business  price_business  \\\n",
       "0                    NaN                     NaN       0.0             0.0   \n",
       "1                    NaN                     NaN       NaN             NaN   \n",
       "\n",
       "   mix_bonds  mix_bills  mix_equity   fee  fee_equity  credit_card  \\\n",
       "0        0.0        1.0         0.0  0.01         0.0          NaN   \n",
       "1        0.0        1.0         0.0  0.01         0.0       8000.0   \n",
       "\n",
       "   personal_loan  student_loan  car_loan  credit_line  first_mortgage  \\\n",
       "0            NaN           NaN       NaN          NaN             NaN   \n",
       "1            NaN           NaN       NaN          NaN             NaN   \n",
       "\n",
       "   second_mortgage  other_debt  credit_card_payment  personal_loan_payment  \\\n",
       "0              NaN         NaN                  NaN                    NaN   \n",
       "1              NaN         NaN                250.0                    NaN   \n",
       "\n",
       "   student_loan_payment  car_loan_payment  credit_line_payment  \\\n",
       "0                   NaN               NaN                  NaN   \n",
       "1                   NaN               NaN                  NaN   \n",
       "\n",
       "   first_mortgage_payment  second_mortgage_payment  other_debt_payment  \\\n",
       "0                     NaN                      NaN                 NaN   \n",
       "1                     NaN                      NaN                 NaN   \n",
       "\n",
       "   claim_age_cpp  s_claim_age_cpp  cap_gains_unreg  s_cap_gains_unreg  \\\n",
       "0           65.0             65.0                0                0.0   \n",
       "1           65.0             60.0                0                0.0   \n",
       "\n",
       "   realized_losses_unreg  s_realized_losses_unreg  init_room_rrsp  \\\n",
       "0                      0                      0.0               0   \n",
       "1                      0                      0.0               0   \n",
       "\n",
       "   init_room_tfsa  s_init_room_rrsp  s_init_room_tfsa  \n",
       "0               0               0.0               0.0  \n",
       "1               0               0.0               0.0  "
      ]
     },
     "execution_count": 5,
     "metadata": {},
     "output_type": "execute_result"
    }
   ],
   "source": [
    "#from CPR import analysis\n",
    "import analysis\n",
    "\n",
    "inputs = analysis.get_dataset()\n",
    "#inputs = pd.read_csv('C:/Users/roger/Documents/GitHub/CPR/CPR_out/my_inputs.csv',index_col=0)\n",
    "#inputs = pd.read_csv('./my_inputs.csv',index_col=0)\n",
    "\n",
    "inputs.head(2)"
   ]
  },
  {
   "cell_type": "markdown",
   "metadata": {
    "ExecuteTime": {
     "end_time": "2020-09-25T03:04:41.778347Z",
     "start_time": "2020-09-25T03:04:41.597799Z"
    }
   },
   "source": [
    "# Run model\n",
    "Deterministic model and stochastic model with 25 simulations"
   ]
  },
  {
   "cell_type": "code",
   "execution_count": 6,
   "metadata": {
    "ExecuteTime": {
     "end_time": "2020-09-29T13:08:28.786466Z",
     "start_time": "2020-09-29T13:06:59.823973Z"
    }
   },
   "outputs": [
    {
     "name": "stderr",
     "output_type": "stream",
     "text": [
      "/Users/TessaLoRiggio/CEDIA Dropbox/Tessa LoRiggio/RSI/CPR_master_mac2015/CPR/initialisation.py:166: RuntimeWarning: divide by zero encountered in log\n",
      "  log_wages[:rel_ret_age] = (np.log(self.init_wage) + diffs)\n"
     ]
    },
    {
     "name": "stdout",
     "output_type": "stream",
     "text": [
      "\n",
      "Deterministic Model\n"
     ]
    }
   ],
   "source": [
    "#from CPR import main\n",
    "import main\n",
    "\n",
    "res_deter = main.run_simulations(inputs, 1, non_stochastic=True)\n",
    "res_deter.summarize()"
   ]
  },
  {
   "cell_type": "code",
   "execution_count": 7,
   "metadata": {
    "ExecuteTime": {
     "end_time": "2020-09-29T13:19:47.135159Z",
     "start_time": "2020-09-29T13:08:28.788460Z"
    }
   },
   "outputs": [
    {
     "name": "stderr",
     "output_type": "stream",
     "text": [
      "/Users/TessaLoRiggio/CEDIA Dropbox/Tessa LoRiggio/RSI/CPR_master_mac2015/CPR/initialisation.py:166: RuntimeWarning: divide by zero encountered in log\n",
      "  log_wages[:rel_ret_age] = (np.log(self.init_wage) + diffs)\n",
      "Process SpawnPoolWorker-7:\n",
      "Process SpawnPoolWorker-8:\n",
      "Traceback (most recent call last):\n",
      "  File \"/Users/TessaLoRiggio/opt/anaconda3/lib/python3.9/multiprocessing/process.py\", line 315, in _bootstrap\n",
      "    self.run()\n",
      "  File \"/Users/TessaLoRiggio/opt/anaconda3/lib/python3.9/multiprocessing/process.py\", line 108, in run\n",
      "    self._target(*self._args, **self._kwargs)\n",
      "  File \"/Users/TessaLoRiggio/opt/anaconda3/lib/python3.9/multiprocessing/pool.py\", line 125, in worker\n",
      "    result = (True, func(*args, **kwds))\n",
      "  File \"/Users/TessaLoRiggio/opt/anaconda3/lib/python3.9/multiprocessing/pool.py\", line 48, in mapstar\n",
      "    return list(map(*args))\n",
      "  File \"/Users/TessaLoRiggio/CEDIA Dropbox/Tessa LoRiggio/RSI/CPR_master_mac2015/CPR/simulator.py\", line 62, in simulate\n",
      "    contribute_cpp(p, year, common)\n",
      "  File \"/Users/TessaLoRiggio/CEDIA Dropbox/Tessa LoRiggio/RSI/CPR_master_mac2015/CPR/simulator.py\", line 361, in contribute_cpp\n",
      "    p.cpp_account.MakeContrib(year, p.d_wages[year])\n",
      "  File \"/Users/TessaLoRiggio/CEDIA Dropbox/Tessa LoRiggio/RSI/srpp_master/srpp/srpp.py\", line 890, in MakeContrib\n",
      "    taxable_s2 = np.min( [np.max([earn-self.rules.ympe(year),0.0]) , (self.rules.ympe_s2(year)-self.rules.ympe(year))])\n",
      "  File \"/Users/TessaLoRiggio/CEDIA Dropbox/Tessa LoRiggio/RSI/srpp_master/srpp/srpp.py\", line 139, in ympe_s2\n",
      "    value *= self.yrspars.loc[min(year,self.stop),'ympe_s2']\n",
      "KeyboardInterrupt\n",
      "Traceback (most recent call last):\n",
      "  File \"/Users/TessaLoRiggio/opt/anaconda3/lib/python3.9/multiprocessing/process.py\", line 315, in _bootstrap\n",
      "    self.run()\n",
      "  File \"/Users/TessaLoRiggio/opt/anaconda3/lib/python3.9/multiprocessing/process.py\", line 108, in run\n",
      "    self._target(*self._args, **self._kwargs)\n",
      "  File \"/Users/TessaLoRiggio/opt/anaconda3/lib/python3.9/multiprocessing/pool.py\", line 125, in worker\n",
      "    result = (True, func(*args, **kwds))\n",
      "  File \"/Users/TessaLoRiggio/opt/anaconda3/lib/python3.9/multiprocessing/pool.py\", line 48, in mapstar\n",
      "    return list(map(*args))\n",
      "  File \"/Users/TessaLoRiggio/CEDIA Dropbox/Tessa LoRiggio/RSI/CPR_master_mac2015/CPR/simulator.py\", line 67, in simulate\n",
      "    taxes.compute_after_tax_amount(hh, year, common, prices)\n",
      "  File \"/Users/TessaLoRiggio/CEDIA Dropbox/Tessa LoRiggio/RSI/CPR_master_mac2015/CPR/taxes.py\", line 32, in compute_after_tax_amount\n",
      "    hh_srd = file_household_inc_to_tax(hh, year, common, prices)\n",
      "  File \"/Users/TessaLoRiggio/CEDIA Dropbox/Tessa LoRiggio/RSI/CPR_master_mac2015/CPR/taxes.py\", line 144, in file_household_inc_to_tax\n",
      "    common.tax.compute(hh_srd)\n",
      "  File \"/Users/TessaLoRiggio/CEDIA Dropbox/Tessa LoRiggio/RSI/srd_master/srd/calculators.py\", line 74, in compute\n",
      "    self.compute_all(hh)\n",
      "  File \"/Users/TessaLoRiggio/CEDIA Dropbox/Tessa LoRiggio/RSI/srd_master/srd/calculators.py\", line 143, in compute_all\n",
      "    self.compute_oas(hh)\n",
      "  File \"/Users/TessaLoRiggio/CEDIA Dropbox/Tessa LoRiggio/RSI/srd_master/srd/calculators.py\", line 161, in compute_oas\n",
      "    self.oas.file(hh)\n",
      "  File \"/Users/TessaLoRiggio/CEDIA Dropbox/Tessa LoRiggio/RSI/srd_master/srd/oas/template.py\", line 28, in file\n",
      "    self.compute_net_income(p, hh)\n",
      "  File \"/Users/TessaLoRiggio/CEDIA Dropbox/Tessa LoRiggio/RSI/srd_master/srd/oas/template.py\", line 88, in compute_net_income\n",
      "    self.federal.calc_gross_income(p)\n",
      "  File \"/Users/TessaLoRiggio/CEDIA Dropbox/Tessa LoRiggio/RSI/srd_master/srd/federal/template.py\", line 60, in calc_gross_income\n",
      "    p.fed_return['gross_income'] = (p.inc_work + p.inc_ei + p.inc_oas\n",
      "KeyboardInterrupt\n",
      "Process SpawnPoolWorker-6:\n",
      "Process SpawnPoolWorker-5:\n",
      "Traceback (most recent call last):\n",
      "  File \"/Users/TessaLoRiggio/opt/anaconda3/lib/python3.9/multiprocessing/process.py\", line 315, in _bootstrap\n",
      "    self.run()\n",
      "  File \"/Users/TessaLoRiggio/opt/anaconda3/lib/python3.9/multiprocessing/process.py\", line 108, in run\n",
      "    self._target(*self._args, **self._kwargs)\n",
      "  File \"/Users/TessaLoRiggio/opt/anaconda3/lib/python3.9/multiprocessing/pool.py\", line 125, in worker\n",
      "    result = (True, func(*args, **kwds))\n",
      "  File \"/Users/TessaLoRiggio/opt/anaconda3/lib/python3.9/multiprocessing/pool.py\", line 48, in mapstar\n",
      "    return list(map(*args))\n",
      "  File \"/Users/TessaLoRiggio/CEDIA Dropbox/Tessa LoRiggio/RSI/CPR_master_mac2015/CPR/simulator.py\", line 67, in simulate\n",
      "    taxes.compute_after_tax_amount(hh, year, common, prices)\n",
      "  File \"/Users/TessaLoRiggio/CEDIA Dropbox/Tessa LoRiggio/RSI/CPR_master_mac2015/CPR/taxes.py\", line 32, in compute_after_tax_amount\n",
      "    hh_srd = file_household_inc_to_tax(hh, year, common, prices)\n",
      "  File \"/Users/TessaLoRiggio/CEDIA Dropbox/Tessa LoRiggio/RSI/CPR_master_mac2015/CPR/taxes.py\", line 144, in file_household_inc_to_tax\n",
      "    common.tax.compute(hh_srd)\n",
      "  File \"/Users/TessaLoRiggio/CEDIA Dropbox/Tessa LoRiggio/RSI/srd_master/srd/calculators.py\", line 82, in compute\n",
      "    self.compute_with_transfer(hh, transfer)\n",
      "  File \"/Users/TessaLoRiggio/CEDIA Dropbox/Tessa LoRiggio/RSI/srd_master/srd/calculators.py\", line 126, in compute_with_transfer\n",
      "    self.compute_all(hh)\n",
      "  File \"/Users/TessaLoRiggio/CEDIA Dropbox/Tessa LoRiggio/RSI/srd_master/srd/calculators.py\", line 138, in compute_all\n",
      "    self.compute_payroll(hh)  # put payroll before oas\n",
      "  File \"/Users/TessaLoRiggio/CEDIA Dropbox/Tessa LoRiggio/RSI/srd_master/srd/calculators.py\", line 195, in compute_payroll\n",
      "    self.payroll.compute(hh)\n",
      "  File \"/Users/TessaLoRiggio/CEDIA Dropbox/Tessa LoRiggio/RSI/srd_master/srd/payroll.py\", line 43, in compute\n",
      "    base, supp = self.get_cpp_contrib(p, hh)\n",
      "  File \"/Users/TessaLoRiggio/CEDIA Dropbox/Tessa LoRiggio/RSI/srd_master/srd/payroll.py\", line 69, in get_cpp_contrib\n",
      "    acc = srpp.account(byear=self.year - p.age, rules=rules)\n",
      "  File \"/Users/TessaLoRiggio/CEDIA Dropbox/Tessa LoRiggio/RSI/srpp_master/srpp/srpp.py\", line 843, in __init__\n",
      "    self.prb_s2 = [0 for x in range(11)]\n",
      "KeyboardInterrupt\n",
      "Traceback (most recent call last):\n",
      "  File \"/Users/TessaLoRiggio/opt/anaconda3/lib/python3.9/multiprocessing/process.py\", line 315, in _bootstrap\n",
      "    self.run()\n",
      "  File \"/Users/TessaLoRiggio/opt/anaconda3/lib/python3.9/multiprocessing/process.py\", line 108, in run\n",
      "    self._target(*self._args, **self._kwargs)\n",
      "  File \"/Users/TessaLoRiggio/opt/anaconda3/lib/python3.9/multiprocessing/pool.py\", line 125, in worker\n",
      "    result = (True, func(*args, **kwds))\n",
      "  File \"/Users/TessaLoRiggio/opt/anaconda3/lib/python3.9/multiprocessing/pool.py\", line 48, in mapstar\n",
      "    return list(map(*args))\n",
      "  File \"/Users/TessaLoRiggio/CEDIA Dropbox/Tessa LoRiggio/RSI/CPR_master_mac2015/CPR/simulator.py\", line 51, in simulate\n",
      "    initialize_cpp_account(p, hh, common)\n",
      "  File \"/Users/TessaLoRiggio/CEDIA Dropbox/Tessa LoRiggio/RSI/CPR_master_mac2015/CPR/simulator.py\", line 175, in initialize_cpp_account\n",
      "    p.cpp_account.MakeContrib(year, p.d_wages[year])\n",
      "  File \"/Users/TessaLoRiggio/CEDIA Dropbox/Tessa LoRiggio/RSI/srpp_master/srpp/srpp.py\", line 890, in MakeContrib\n",
      "    taxable_s2 = np.min( [np.max([earn-self.rules.ympe(year),0.0]) , (self.rules.ympe_s2(year)-self.rules.ympe(year))])\n",
      "  File \"/Users/TessaLoRiggio/CEDIA Dropbox/Tessa LoRiggio/RSI/srpp_master/srpp/srpp.py\", line 138, in ympe_s2\n",
      "    value = self.ympe(year)\n",
      "  File \"/Users/TessaLoRiggio/CEDIA Dropbox/Tessa LoRiggio/RSI/srpp_master/srpp/srpp.py\", line 123, in ympe\n",
      "    value = self.yrspars.loc[year,'ympe']\n",
      "  File \"/Users/TessaLoRiggio/opt/anaconda3/lib/python3.9/site-packages/pandas/core/indexing.py\", line 960, in __getitem__\n",
      "    return self.obj._get_value(*key, takeable=self._takeable)\n",
      "  File \"/Users/TessaLoRiggio/opt/anaconda3/lib/python3.9/site-packages/pandas/core/frame.py\", line 3615, in _get_value\n",
      "    series = self._get_item_cache(col)\n",
      "  File \"/Users/TessaLoRiggio/opt/anaconda3/lib/python3.9/site-packages/pandas/core/frame.py\", line 3926, in _get_item_cache\n",
      "    res = cache.get(item)\n",
      "KeyboardInterrupt\n"
     ]
    },
    {
     "ename": "KeyboardInterrupt",
     "evalue": "",
     "output_type": "error",
     "traceback": [
      "\u001b[0;31m---------------------------------------------------------------------------\u001b[0m",
      "\u001b[0;31mKeyboardInterrupt\u001b[0m                         Traceback (most recent call last)",
      "Input \u001b[0;32mIn [7]\u001b[0m, in \u001b[0;36m<cell line: 1>\u001b[0;34m()\u001b[0m\n\u001b[0;32m----> 1\u001b[0m res_stoch \u001b[38;5;241m=\u001b[39m \u001b[43mmain\u001b[49m\u001b[38;5;241;43m.\u001b[39;49m\u001b[43mrun_simulations\u001b[49m\u001b[43m(\u001b[49m\u001b[43minputs\u001b[49m\u001b[43m,\u001b[49m\u001b[43m \u001b[49m\u001b[38;5;241;43m25\u001b[39;49m\u001b[43m,\u001b[49m\u001b[43m \u001b[49m\u001b[43mnon_stochastic\u001b[49m\u001b[38;5;241;43m=\u001b[39;49m\u001b[38;5;28;43;01mFalse\u001b[39;49;00m\u001b[43m)\u001b[49m\n\u001b[1;32m      2\u001b[0m res_stoch\u001b[38;5;241m.\u001b[39msummarize()\n",
      "File \u001b[0;32m~/CEDIA Dropbox/Tessa LoRiggio/RSI/CPR_master_mac2015/CPR/main.py:73\u001b[0m, in \u001b[0;36mrun_simulations\u001b[0;34m(inputs, nsim, non_stochastic, n_jobs, **extra_params)\u001b[0m\n\u001b[1;32m     71\u001b[0m \u001b[38;5;28;01mif\u001b[39;00m n_jobs \u001b[38;5;241m>\u001b[39m \u001b[38;5;241m1\u001b[39m:\n\u001b[1;32m     72\u001b[0m     \u001b[38;5;28;01mwith\u001b[39;00m mp\u001b[38;5;241m.\u001b[39mPool(processes\u001b[38;5;241m=\u001b[39mn_jobs) \u001b[38;5;28;01mas\u001b[39;00m pool:\n\u001b[0;32m---> 73\u001b[0m         l_outputs \u001b[38;5;241m=\u001b[39m \u001b[43mpool\u001b[49m\u001b[38;5;241;43m.\u001b[39;49m\u001b[43mmap\u001b[49m\u001b[43m(\u001b[49m\u001b[43mpartial\u001b[49m\u001b[43m(\u001b[49m\u001b[43msimulator\u001b[49m\u001b[38;5;241;43m.\u001b[39;49m\u001b[43msimulate\u001b[49m\u001b[43m,\u001b[49m\n\u001b[1;32m     74\u001b[0m \u001b[43m                             \u001b[49m\u001b[43mcommon\u001b[49m\u001b[38;5;241;43m=\u001b[39;49m\u001b[43mcommon\u001b[49m\u001b[43m,\u001b[49m\u001b[43m \u001b[49m\u001b[43mprices\u001b[49m\u001b[38;5;241;43m=\u001b[39;49m\u001b[43mprices\u001b[49m\u001b[43m)\u001b[49m\u001b[43m,\u001b[49m\u001b[43m \u001b[49m\u001b[43mjobs\u001b[49m\u001b[43m)\u001b[49m\n\u001b[1;32m     75\u001b[0m \u001b[38;5;28;01melse\u001b[39;00m:\n\u001b[1;32m     76\u001b[0m     l_outputs \u001b[38;5;241m=\u001b[39m [simulator\u001b[38;5;241m.\u001b[39msimulate(job, common, prices) \u001b[38;5;28;01mfor\u001b[39;00m job \u001b[38;5;129;01min\u001b[39;00m jobs]\n",
      "File \u001b[0;32m~/opt/anaconda3/lib/python3.9/multiprocessing/pool.py:364\u001b[0m, in \u001b[0;36mPool.map\u001b[0;34m(self, func, iterable, chunksize)\u001b[0m\n\u001b[1;32m    359\u001b[0m \u001b[38;5;28;01mdef\u001b[39;00m \u001b[38;5;21mmap\u001b[39m(\u001b[38;5;28mself\u001b[39m, func, iterable, chunksize\u001b[38;5;241m=\u001b[39m\u001b[38;5;28;01mNone\u001b[39;00m):\n\u001b[1;32m    360\u001b[0m     \u001b[38;5;124;03m'''\u001b[39;00m\n\u001b[1;32m    361\u001b[0m \u001b[38;5;124;03m    Apply `func` to each element in `iterable`, collecting the results\u001b[39;00m\n\u001b[1;32m    362\u001b[0m \u001b[38;5;124;03m    in a list that is returned.\u001b[39;00m\n\u001b[1;32m    363\u001b[0m \u001b[38;5;124;03m    '''\u001b[39;00m\n\u001b[0;32m--> 364\u001b[0m     \u001b[38;5;28;01mreturn\u001b[39;00m \u001b[38;5;28;43mself\u001b[39;49m\u001b[38;5;241;43m.\u001b[39;49m\u001b[43m_map_async\u001b[49m\u001b[43m(\u001b[49m\u001b[43mfunc\u001b[49m\u001b[43m,\u001b[49m\u001b[43m \u001b[49m\u001b[43miterable\u001b[49m\u001b[43m,\u001b[49m\u001b[43m \u001b[49m\u001b[43mmapstar\u001b[49m\u001b[43m,\u001b[49m\u001b[43m \u001b[49m\u001b[43mchunksize\u001b[49m\u001b[43m)\u001b[49m\u001b[38;5;241;43m.\u001b[39;49m\u001b[43mget\u001b[49m\u001b[43m(\u001b[49m\u001b[43m)\u001b[49m\n",
      "File \u001b[0;32m~/opt/anaconda3/lib/python3.9/multiprocessing/pool.py:765\u001b[0m, in \u001b[0;36mApplyResult.get\u001b[0;34m(self, timeout)\u001b[0m\n\u001b[1;32m    764\u001b[0m \u001b[38;5;28;01mdef\u001b[39;00m \u001b[38;5;21mget\u001b[39m(\u001b[38;5;28mself\u001b[39m, timeout\u001b[38;5;241m=\u001b[39m\u001b[38;5;28;01mNone\u001b[39;00m):\n\u001b[0;32m--> 765\u001b[0m     \u001b[38;5;28;43mself\u001b[39;49m\u001b[38;5;241;43m.\u001b[39;49m\u001b[43mwait\u001b[49m\u001b[43m(\u001b[49m\u001b[43mtimeout\u001b[49m\u001b[43m)\u001b[49m\n\u001b[1;32m    766\u001b[0m     \u001b[38;5;28;01mif\u001b[39;00m \u001b[38;5;129;01mnot\u001b[39;00m \u001b[38;5;28mself\u001b[39m\u001b[38;5;241m.\u001b[39mready():\n\u001b[1;32m    767\u001b[0m         \u001b[38;5;28;01mraise\u001b[39;00m \u001b[38;5;167;01mTimeoutError\u001b[39;00m\n",
      "File \u001b[0;32m~/opt/anaconda3/lib/python3.9/multiprocessing/pool.py:762\u001b[0m, in \u001b[0;36mApplyResult.wait\u001b[0;34m(self, timeout)\u001b[0m\n\u001b[1;32m    761\u001b[0m \u001b[38;5;28;01mdef\u001b[39;00m \u001b[38;5;21mwait\u001b[39m(\u001b[38;5;28mself\u001b[39m, timeout\u001b[38;5;241m=\u001b[39m\u001b[38;5;28;01mNone\u001b[39;00m):\n\u001b[0;32m--> 762\u001b[0m     \u001b[38;5;28;43mself\u001b[39;49m\u001b[38;5;241;43m.\u001b[39;49m\u001b[43m_event\u001b[49m\u001b[38;5;241;43m.\u001b[39;49m\u001b[43mwait\u001b[49m\u001b[43m(\u001b[49m\u001b[43mtimeout\u001b[49m\u001b[43m)\u001b[49m\n",
      "File \u001b[0;32m~/opt/anaconda3/lib/python3.9/threading.py:574\u001b[0m, in \u001b[0;36mEvent.wait\u001b[0;34m(self, timeout)\u001b[0m\n\u001b[1;32m    572\u001b[0m signaled \u001b[38;5;241m=\u001b[39m \u001b[38;5;28mself\u001b[39m\u001b[38;5;241m.\u001b[39m_flag\n\u001b[1;32m    573\u001b[0m \u001b[38;5;28;01mif\u001b[39;00m \u001b[38;5;129;01mnot\u001b[39;00m signaled:\n\u001b[0;32m--> 574\u001b[0m     signaled \u001b[38;5;241m=\u001b[39m \u001b[38;5;28;43mself\u001b[39;49m\u001b[38;5;241;43m.\u001b[39;49m\u001b[43m_cond\u001b[49m\u001b[38;5;241;43m.\u001b[39;49m\u001b[43mwait\u001b[49m\u001b[43m(\u001b[49m\u001b[43mtimeout\u001b[49m\u001b[43m)\u001b[49m\n\u001b[1;32m    575\u001b[0m \u001b[38;5;28;01mreturn\u001b[39;00m signaled\n",
      "File \u001b[0;32m~/opt/anaconda3/lib/python3.9/threading.py:312\u001b[0m, in \u001b[0;36mCondition.wait\u001b[0;34m(self, timeout)\u001b[0m\n\u001b[1;32m    310\u001b[0m \u001b[38;5;28;01mtry\u001b[39;00m:    \u001b[38;5;66;03m# restore state no matter what (e.g., KeyboardInterrupt)\u001b[39;00m\n\u001b[1;32m    311\u001b[0m     \u001b[38;5;28;01mif\u001b[39;00m timeout \u001b[38;5;129;01mis\u001b[39;00m \u001b[38;5;28;01mNone\u001b[39;00m:\n\u001b[0;32m--> 312\u001b[0m         \u001b[43mwaiter\u001b[49m\u001b[38;5;241;43m.\u001b[39;49m\u001b[43macquire\u001b[49m\u001b[43m(\u001b[49m\u001b[43m)\u001b[49m\n\u001b[1;32m    313\u001b[0m         gotit \u001b[38;5;241m=\u001b[39m \u001b[38;5;28;01mTrue\u001b[39;00m\n\u001b[1;32m    314\u001b[0m     \u001b[38;5;28;01melse\u001b[39;00m:\n",
      "\u001b[0;31mKeyboardInterrupt\u001b[0m: "
     ]
    }
   ],
   "source": [
    "res_stoch = main.run_simulations(inputs, 25, non_stochastic=False)\n",
    "res_stoch.summarize()"
   ]
  },
  {
   "cell_type": "markdown",
   "metadata": {},
   "source": [
    "# Analyse results"
   ]
  },
  {
   "cell_type": "markdown",
   "metadata": {},
   "source": [
    "## See output"
   ]
  },
  {
   "cell_type": "code",
   "execution_count": null,
   "metadata": {
    "ExecuteTime": {
     "end_time": "2020-09-29T13:19:47.204001Z",
     "start_time": "2020-09-29T13:19:47.137154Z"
    }
   },
   "outputs": [],
   "source": [
    "res_deter.output.head()"
   ]
  },
  {
   "cell_type": "code",
   "execution_count": null,
   "metadata": {},
   "outputs": [],
   "source": [
    "#stop"
   ]
  },
  {
   "cell_type": "markdown",
   "metadata": {},
   "source": [
    "## Merge with input and check preparedness"
   ]
  },
  {
   "cell_type": "code",
   "execution_count": null,
   "metadata": {
    "ExecuteTime": {
     "end_time": "2020-09-29T13:19:47.394470Z",
     "start_time": "2020-09-29T13:19:47.205969Z"
    }
   },
   "outputs": [],
   "source": [
    "res_deter.check_preparedness()\n",
    "df = res_deter.df_merged\n",
    "\n",
    "print(f'percentage people prepared in sample: {df.prepared.mean() * 100}%')"
   ]
  },
  {
   "cell_type": "markdown",
   "metadata": {},
   "source": [
    "## RRI distribution"
   ]
  },
  {
   "cell_type": "code",
   "execution_count": null,
   "metadata": {
    "ExecuteTime": {
     "end_time": "2020-09-29T13:19:47.664396Z",
     "start_time": "2020-09-29T13:19:47.398456Z"
    },
    "scrolled": true
   },
   "outputs": [],
   "source": [
    "sns.set()\n",
    "ax = df.rri[df.rri < 500].hist()\n",
    "ax.set_title('RRI distribution')\n",
    "plt.show()"
   ]
  },
  {
   "cell_type": "markdown",
   "metadata": {},
   "source": [
    "## Risk\n",
    "### Preparation rate at aggregate level"
   ]
  },
  {
   "cell_type": "code",
   "execution_count": null,
   "metadata": {
    "ExecuteTime": {
     "end_time": "2020-09-29T13:19:55.182741Z",
     "start_time": "2020-09-29T13:19:47.667394Z"
    }
   },
   "outputs": [],
   "source": [
    "res_stoch.check_preparedness()\n",
    "df = res_stoch.df_merged"
   ]
  },
  {
   "cell_type": "code",
   "execution_count": null,
   "metadata": {
    "ExecuteTime": {
     "end_time": "2020-09-29T13:19:55.422127Z",
     "start_time": "2020-09-29T13:19:55.184736Z"
    }
   },
   "outputs": [],
   "source": [
    "ax = df.groupby('sim')['prepared'].mean().hist()\n",
    "ax.grid()\n",
    "ax.set_title('rri distribution')\n",
    "ax.set_xlabel('percentage people prepared')\n",
    "ax.grid()\n",
    "plt.show()"
   ]
  },
  {
   "cell_type": "markdown",
   "metadata": {},
   "source": [
    "## Experiments"
   ]
  },
  {
   "cell_type": "markdown",
   "metadata": {},
   "source": [
    "### Selling first residence"
   ]
  },
  {
   "cell_type": "code",
   "execution_count": null,
   "metadata": {
    "ExecuteTime": {
     "end_time": "2020-09-29T13:21:23.046981Z",
     "start_time": "2020-09-29T13:21:23.023063Z"
    }
   },
   "outputs": [],
   "source": [
    "vars(res_deter.common)"
   ]
  },
  {
   "cell_type": "code",
   "execution_count": null,
   "metadata": {
    "ExecuteTime": {
     "end_time": "2020-09-29T13:25:24.708560Z",
     "start_time": "2020-09-29T13:24:18.612122Z"
    }
   },
   "outputs": [],
   "source": [
    "res_not_selling = main.run_simulations(inputs, 1, non_stochastic=True,\n",
    "                                       sell_first_resid=False)\n",
    "res_not_selling.summarize()\n",
    "res_not_selling.check_preparedness()\n",
    "df = res_not_selling.df_merged\n",
    "\n",
    "print(f'\\npercentage people prepared without selling house: {df.prepared.mean() * 100:.2f}%')\n",
    "\n",
    "res_selling = main.run_simulations(inputs, 1, non_stochastic=True,\n",
    "                                   sell_first_resid=True)\n",
    "res_selling.summarize()\n",
    "res_selling.check_preparedness()\n",
    "df = res_selling.df_merged\n",
    "\n",
    "print(f'\\npercentage people prepared when selling house: {df.prepared.mean() * 100:.2f}%')"
   ]
  },
  {
   "cell_type": "code",
   "execution_count": null,
   "metadata": {
    "ExecuteTime": {
     "end_time": "2020-09-29T13:25:24.759386Z",
     "start_time": "2020-09-29T13:25:24.710512Z"
    }
   },
   "outputs": [],
   "source": [
    "vars(res_deter.prices)"
   ]
  },
  {
   "cell_type": "code",
   "execution_count": null,
   "metadata": {
    "ExecuteTime": {
     "end_time": "2020-09-29T13:31:21.471168Z",
     "start_time": "2020-09-29T13:25:24.762377Z"
    }
   },
   "outputs": [],
   "source": [
    "mu_equity_bm = res_deter.prices.mu_equity\n",
    "mu_bills_bm = res_deter.prices.mu_bills\n",
    "mu_bonds_bm = res_deter.prices.mu_bonds\n",
    "\n",
    "factors = np.linspace(0, 2, 10)\n",
    "\n",
    "l_prepared = []\n",
    "for factor in factors:\n",
    "    res = main.run_simulations(inputs, 1, non_stochastic=True,\n",
    "                               mu_equity=factor * mu_equity_bm,\n",
    "                               mu_bills=factor * mu_bills_bm,\n",
    "                               mu_bonds=factor * mu_bonds_bm)\n",
    "    res.check_preparedness()\n",
    "    l_prepared.append(res.df_merged.prepared.mean())    "
   ]
  },
  {
   "cell_type": "code",
   "execution_count": null,
   "metadata": {
    "ExecuteTime": {
     "end_time": "2020-09-29T13:31:21.738418Z",
     "start_time": "2020-09-29T13:31:21.473126Z"
    }
   },
   "outputs": [],
   "source": [
    "plt.plot(factors, l_prepared)\n",
    "plt.title('changes in returns')\n",
    "plt.xlabel('factor')\n",
    "plt.ylabel('percentage prepared')\n",
    "plt.show()"
   ]
  },
  {
   "cell_type": "markdown",
   "metadata": {},
   "source": [
    "# Using CPR with other inputs\n",
    "\n",
    "More info on the variables here: http://ire.hec.ca/en/wp-content/uploads/sites/3/2020/06/cpr-report-2020-final.pdf"
   ]
  },
  {
   "cell_type": "code",
   "execution_count": null,
   "metadata": {
    "ExecuteTime": {
     "end_time": "2020-09-29T13:31:21.825405Z",
     "start_time": "2020-09-29T13:31:21.740412Z"
    }
   },
   "outputs": [],
   "source": [
    "inputs.head()"
   ]
  },
  {
   "cell_type": "code",
   "execution_count": null,
   "metadata": {
    "ExecuteTime": {
     "end_time": "2020-09-29T13:40:06.806119Z",
     "start_time": "2020-09-29T13:40:06.791152Z"
    }
   },
   "outputs": [],
   "source": [
    "# saving copy of dataframe\n",
    "inputs.iloc[0, :].to_frame().T.to_csv('my_inputs.csv', index=False)"
   ]
  },
  {
   "cell_type": "code",
   "execution_count": null,
   "metadata": {
    "ExecuteTime": {
     "end_time": "2020-09-29T13:40:08.970388Z",
     "start_time": "2020-09-29T13:40:08.955459Z"
    }
   },
   "outputs": [],
   "source": [
    "my_inputs = pd.read_csv('my_inputs.csv')"
   ]
  },
  {
   "cell_type": "code",
   "execution_count": null,
   "metadata": {
    "ExecuteTime": {
     "end_time": "2020-09-29T13:40:17.789649Z",
     "start_time": "2020-09-29T13:40:10.945832Z"
    }
   },
   "outputs": [],
   "source": [
    "my_res = main.run_simulations(my_inputs, 100, non_stochastic=False)\n",
    "my_res.check_preparedness()\n",
    "df = my_res.df_merged\n",
    "\n",
    "df.prepared.value_counts(normalize=True)"
   ]
  },
  {
   "cell_type": "code",
   "execution_count": null,
   "metadata": {
    "ExecuteTime": {
     "end_time": "2020-09-29T13:40:18.068944Z",
     "start_time": "2020-09-29T13:40:17.791642Z"
    }
   },
   "outputs": [],
   "source": [
    "ax = sns.distplot(df.loc[df.rri<500, 'rri'])\n",
    "ax.grid()\n",
    "ax.set_title('rri distribution')\n",
    "ax.grid()\n",
    "plt.show()"
   ]
  }
 ],
 "metadata": {
  "kernelspec": {
   "display_name": "Python 3 (ipykernel)",
   "language": "python",
   "name": "python3"
  },
  "language_info": {
   "codemirror_mode": {
    "name": "ipython",
    "version": 3
   },
   "file_extension": ".py",
   "mimetype": "text/x-python",
   "name": "python",
   "nbconvert_exporter": "python",
   "pygments_lexer": "ipython3",
   "version": "3.9.12"
  },
  "toc": {
   "base_numbering": 1,
   "nav_menu": {},
   "number_sections": true,
   "sideBar": true,
   "skip_h1_title": false,
   "title_cell": "Table of Contents",
   "title_sidebar": "Contents",
   "toc_cell": false,
   "toc_position": {
    "height": "calc(100% - 180px)",
    "left": "10px",
    "top": "150px",
    "width": "165px"
   },
   "toc_section_display": true,
   "toc_window_display": false
  },
  "vscode": {
   "interpreter": {
    "hash": "9909264b6bdbca3045af8bd3e6a0b6c0c29d38c2a192ba1c83bb2539a765db59"
   }
  }
 },
 "nbformat": 4,
 "nbformat_minor": 4
}

{
 "cells": [
  {
   "cell_type": "markdown",
   "metadata": {},
   "source": [
    "# Import packages"
   ]
  },
  {
   "cell_type": "code",
   "execution_count": 1,
   "metadata": {
    "ExecuteTime": {
     "end_time": "2020-09-29T13:06:56.632622Z",
     "start_time": "2020-09-29T13:06:53.176425Z"
    }
   },
   "outputs": [],
   "source": [
    "%matplotlib inline\n",
    "import os\n",
    "import pandas as pd\n",
    "import numpy as np\n",
    "import matplotlib.pyplot as plt\n",
    "import seaborn as sns\n",
    "import sys\n",
    "#sys.path.insert(1, r'C:/Users/roger/Documents/GitHub/CPR/CPR')"
   ]
  },
  {
   "cell_type": "code",
   "execution_count": null,
   "metadata": {
    "ExecuteTime": {
     "end_time": "2020-09-29T13:06:56.632622Z",
     "start_time": "2020-09-29T13:06:53.176425Z"
    }
   },
   "outputs": [],
   "source": [
    "#os.path.normpath(os.getcwd() + os.sep + os.pardir)"
   ]
  },
  {
   "cell_type": "code",
   "execution_count": 2,
   "metadata": {
    "ExecuteTime": {
     "end_time": "2020-09-29T13:06:56.632622Z",
     "start_time": "2020-09-29T13:06:53.176425Z"
    }
   },
   "outputs": [],
   "source": [
    "#sys.path.insert(1, '../CPR')\n",
    "#import analysis\n",
    "#import main\n",
    "\n",
    "sys.path.append('/Users/TessaLoRiggio/CEDIA Dropbox/Tessa LoRiggio/RSI/srd_master/srd')\n",
    "sys.path.append('/Users/TessaLoRiggio/CEDIA Dropbox/Tessa LoRiggio/RSI/srpp_master/srpp')\n",
    "sys.path.append('/Users/TessaLoRiggio/CEDIA Dropbox/Tessa LoRiggio/RSI/CPR_master/CPR')\n",
    "\n",
    "pd.options.display.max_columns = None\n",
    "pd.options.display.max_rows = None"
   ]
  },
  {
   "cell_type": "code",
   "execution_count": null,
   "metadata": {},
   "outputs": [],
   "source": [
    "#nj = (os.getcwd()=='C:\\\\Users\\\\80002036\\\\CEDIA Dropbox\\\\Nicholas-James Clavet\\\\Modeles\\\\srd\\\\notebooks')\n",
    "\n",
    "#if nj :\n",
    "#    sys.path.append('C:/Users/80002036/Documents/GitHub/srd')\n",
    "#    sys.path.append('C:/Users/80002036/Documents/GitHub/srpp')\n",
    "#    print('Utilisateur : NJ')\n",
    "\n",
    "#if not nj:\n",
    "#    sys.path.append('C:/Users/roger/Documents/GitHub/srd')\n",
    "#    sys.path.append('C:/Users/roger/Documents/GitHub/srpp')\n",
    "#    print('Utilisateur : Roger')"
   ]
  },
  {
   "cell_type": "markdown",
   "metadata": {},
   "source": [
    "# Import dataset"
   ]
  },
  {
   "cell_type": "code",
   "execution_count": 4,
   "metadata": {
    "ExecuteTime": {
     "end_time": "2020-09-29T13:06:59.821979Z",
     "start_time": "2020-09-29T13:06:56.643760Z"
    }
   },
   "outputs": [
    {
     "data": {
      "text/html": [
       "<div>\n",
       "<style scoped>\n",
       "    .dataframe tbody tr th:only-of-type {\n",
       "        vertical-align: middle;\n",
       "    }\n",
       "\n",
       "    .dataframe tbody tr th {\n",
       "        vertical-align: top;\n",
       "    }\n",
       "\n",
       "    .dataframe thead th {\n",
       "        text-align: right;\n",
       "    }\n",
       "</style>\n",
       "<table border=\"1\" class=\"dataframe\">\n",
       "  <thead>\n",
       "    <tr style=\"text-align: right;\">\n",
       "      <th></th>\n",
       "      <th>sex</th>\n",
       "      <th>ret_age</th>\n",
       "      <th>education</th>\n",
       "      <th>init_wage</th>\n",
       "      <th>pension</th>\n",
       "      <th>bal_rrsp</th>\n",
       "      <th>bal_tfsa</th>\n",
       "      <th>bal_other_reg</th>\n",
       "      <th>bal_unreg</th>\n",
       "      <th>cont_rate_rrsp</th>\n",
       "      <th>cont_rate_tfsa</th>\n",
       "      <th>cont_rate_other_reg</th>\n",
       "      <th>cont_rate_unreg</th>\n",
       "      <th>withdrawal_rrsp</th>\n",
       "      <th>withdrawal_tfsa</th>\n",
       "      <th>withdrawal_other_reg</th>\n",
       "      <th>withdrawal_unreg</th>\n",
       "      <th>replacement_rate_db</th>\n",
       "      <th>rate_employee_db</th>\n",
       "      <th>income_previous_db</th>\n",
       "      <th>init_dc</th>\n",
       "      <th>rate_employee_dc</th>\n",
       "      <th>rate_employer_dc</th>\n",
       "      <th>s_byear</th>\n",
       "      <th>s_sex</th>\n",
       "      <th>s_ret_age</th>\n",
       "      <th>s_education</th>\n",
       "      <th>s_init_wage</th>\n",
       "      <th>s_pension</th>\n",
       "      <th>s_bal_rrsp</th>\n",
       "      <th>s_bal_tfsa</th>\n",
       "      <th>s_bal_other_reg</th>\n",
       "      <th>s_bal_unreg</th>\n",
       "      <th>s_cont_rate_rrsp</th>\n",
       "      <th>s_cont_rate_tfsa</th>\n",
       "      <th>s_cont_rate_other_reg</th>\n",
       "      <th>s_cont_rate_unreg</th>\n",
       "      <th>s_withdrawal_rrsp</th>\n",
       "      <th>s_withdrawal_tfsa</th>\n",
       "      <th>s_withdrawal_other_reg</th>\n",
       "      <th>s_withdrawal_unreg</th>\n",
       "      <th>s_replacement_rate_db</th>\n",
       "      <th>s_rate_employee_db</th>\n",
       "      <th>s_income_previous_db</th>\n",
       "      <th>s_init_dc</th>\n",
       "      <th>s_rate_employee_dc</th>\n",
       "      <th>s_rate_employer_dc</th>\n",
       "      <th>weight</th>\n",
       "      <th>couple</th>\n",
       "      <th>prov</th>\n",
       "      <th>first_residence</th>\n",
       "      <th>second_residence</th>\n",
       "      <th>price_first_residence</th>\n",
       "      <th>price_second_residence</th>\n",
       "      <th>business</th>\n",
       "      <th>price_business</th>\n",
       "      <th>mix_bonds</th>\n",
       "      <th>mix_bills</th>\n",
       "      <th>mix_equity</th>\n",
       "      <th>fee</th>\n",
       "      <th>fee_equity</th>\n",
       "      <th>credit_card</th>\n",
       "      <th>personal_loan</th>\n",
       "      <th>student_loan</th>\n",
       "      <th>car_loan</th>\n",
       "      <th>credit_line</th>\n",
       "      <th>first_mortgage</th>\n",
       "      <th>second_mortgage</th>\n",
       "      <th>other_debt</th>\n",
       "      <th>credit_card_payment</th>\n",
       "      <th>personal_loan_payment</th>\n",
       "      <th>student_loan_payment</th>\n",
       "      <th>car_loan_payment</th>\n",
       "      <th>credit_line_payment</th>\n",
       "      <th>first_mortgage_payment</th>\n",
       "      <th>second_mortgage_payment</th>\n",
       "      <th>other_debt_payment</th>\n",
       "      <th>claim_age_cpp</th>\n",
       "      <th>s_claim_age_cpp</th>\n",
       "      <th>cap_gains_unreg</th>\n",
       "      <th>s_cap_gains_unreg</th>\n",
       "      <th>realized_losses_unreg</th>\n",
       "      <th>s_realized_losses_unreg</th>\n",
       "      <th>init_room_rrsp</th>\n",
       "      <th>init_room_tfsa</th>\n",
       "      <th>s_init_room_rrsp</th>\n",
       "      <th>s_init_room_tfsa</th>\n",
       "    </tr>\n",
       "    <tr>\n",
       "      <th>byear</th>\n",
       "      <th></th>\n",
       "      <th></th>\n",
       "      <th></th>\n",
       "      <th></th>\n",
       "      <th></th>\n",
       "      <th></th>\n",
       "      <th></th>\n",
       "      <th></th>\n",
       "      <th></th>\n",
       "      <th></th>\n",
       "      <th></th>\n",
       "      <th></th>\n",
       "      <th></th>\n",
       "      <th></th>\n",
       "      <th></th>\n",
       "      <th></th>\n",
       "      <th></th>\n",
       "      <th></th>\n",
       "      <th></th>\n",
       "      <th></th>\n",
       "      <th></th>\n",
       "      <th></th>\n",
       "      <th></th>\n",
       "      <th></th>\n",
       "      <th></th>\n",
       "      <th></th>\n",
       "      <th></th>\n",
       "      <th></th>\n",
       "      <th></th>\n",
       "      <th></th>\n",
       "      <th></th>\n",
       "      <th></th>\n",
       "      <th></th>\n",
       "      <th></th>\n",
       "      <th></th>\n",
       "      <th></th>\n",
       "      <th></th>\n",
       "      <th></th>\n",
       "      <th></th>\n",
       "      <th></th>\n",
       "      <th></th>\n",
       "      <th></th>\n",
       "      <th></th>\n",
       "      <th></th>\n",
       "      <th></th>\n",
       "      <th></th>\n",
       "      <th></th>\n",
       "      <th></th>\n",
       "      <th></th>\n",
       "      <th></th>\n",
       "      <th></th>\n",
       "      <th></th>\n",
       "      <th></th>\n",
       "      <th></th>\n",
       "      <th></th>\n",
       "      <th></th>\n",
       "      <th></th>\n",
       "      <th></th>\n",
       "      <th></th>\n",
       "      <th></th>\n",
       "      <th></th>\n",
       "      <th></th>\n",
       "      <th></th>\n",
       "      <th></th>\n",
       "      <th></th>\n",
       "      <th></th>\n",
       "      <th></th>\n",
       "      <th></th>\n",
       "      <th></th>\n",
       "      <th></th>\n",
       "      <th></th>\n",
       "      <th></th>\n",
       "      <th></th>\n",
       "      <th></th>\n",
       "      <th></th>\n",
       "      <th></th>\n",
       "      <th></th>\n",
       "      <th></th>\n",
       "      <th></th>\n",
       "      <th></th>\n",
       "      <th></th>\n",
       "      <th></th>\n",
       "      <th></th>\n",
       "      <th></th>\n",
       "      <th></th>\n",
       "      <th></th>\n",
       "      <th></th>\n",
       "    </tr>\n",
       "  </thead>\n",
       "  <tbody>\n",
       "    <tr>\n",
       "      <th>1980</th>\n",
       "      <td>male</td>\n",
       "      <td>65</td>\n",
       "      <td>less than high school</td>\n",
       "      <td>60000</td>\n",
       "      <td>NaN</td>\n",
       "      <td>NaN</td>\n",
       "      <td>NaN</td>\n",
       "      <td>NaN</td>\n",
       "      <td>NaN</td>\n",
       "      <td>NaN</td>\n",
       "      <td>NaN</td>\n",
       "      <td>NaN</td>\n",
       "      <td>NaN</td>\n",
       "      <td>NaN</td>\n",
       "      <td>NaN</td>\n",
       "      <td>NaN</td>\n",
       "      <td>NaN</td>\n",
       "      <td>NaN</td>\n",
       "      <td>NaN</td>\n",
       "      <td>NaN</td>\n",
       "      <td>NaN</td>\n",
       "      <td>NaN</td>\n",
       "      <td>NaN</td>\n",
       "      <td>NaN</td>\n",
       "      <td>NaN</td>\n",
       "      <td>NaN</td>\n",
       "      <td>NaN</td>\n",
       "      <td>NaN</td>\n",
       "      <td>NaN</td>\n",
       "      <td>NaN</td>\n",
       "      <td>NaN</td>\n",
       "      <td>NaN</td>\n",
       "      <td>NaN</td>\n",
       "      <td>NaN</td>\n",
       "      <td>NaN</td>\n",
       "      <td>NaN</td>\n",
       "      <td>NaN</td>\n",
       "      <td>NaN</td>\n",
       "      <td>NaN</td>\n",
       "      <td>NaN</td>\n",
       "      <td>NaN</td>\n",
       "      <td>NaN</td>\n",
       "      <td>NaN</td>\n",
       "      <td>NaN</td>\n",
       "      <td>NaN</td>\n",
       "      <td>NaN</td>\n",
       "      <td>NaN</td>\n",
       "      <td>0.0</td>\n",
       "      <td>False</td>\n",
       "      <td>qc</td>\n",
       "      <td>NaN</td>\n",
       "      <td>NaN</td>\n",
       "      <td>NaN</td>\n",
       "      <td>NaN</td>\n",
       "      <td>NaN</td>\n",
       "      <td>NaN</td>\n",
       "      <td>0.0</td>\n",
       "      <td>0.0</td>\n",
       "      <td>0.0</td>\n",
       "      <td>0.0</td>\n",
       "      <td>0.0</td>\n",
       "      <td>NaN</td>\n",
       "      <td>NaN</td>\n",
       "      <td>NaN</td>\n",
       "      <td>NaN</td>\n",
       "      <td>NaN</td>\n",
       "      <td>NaN</td>\n",
       "      <td>NaN</td>\n",
       "      <td>NaN</td>\n",
       "      <td>NaN</td>\n",
       "      <td>NaN</td>\n",
       "      <td>NaN</td>\n",
       "      <td>NaN</td>\n",
       "      <td>NaN</td>\n",
       "      <td>NaN</td>\n",
       "      <td>NaN</td>\n",
       "      <td>NaN</td>\n",
       "      <td>65.0</td>\n",
       "      <td>NaN</td>\n",
       "      <td>0</td>\n",
       "      <td>0</td>\n",
       "      <td>0</td>\n",
       "      <td>0</td>\n",
       "      <td>0</td>\n",
       "      <td>0</td>\n",
       "      <td>NaN</td>\n",
       "      <td>NaN</td>\n",
       "    </tr>\n",
       "  </tbody>\n",
       "</table>\n",
       "</div>"
      ],
      "text/plain": [
       "        sex  ret_age              education  init_wage  pension  bal_rrsp  \\\n",
       "byear                                                                       \n",
       "1980   male       65  less than high school      60000      NaN       NaN   \n",
       "\n",
       "       bal_tfsa  bal_other_reg  bal_unreg  cont_rate_rrsp  cont_rate_tfsa  \\\n",
       "byear                                                                       \n",
       "1980        NaN            NaN        NaN             NaN             NaN   \n",
       "\n",
       "       cont_rate_other_reg  cont_rate_unreg  withdrawal_rrsp  withdrawal_tfsa  \\\n",
       "byear                                                                           \n",
       "1980                   NaN              NaN              NaN              NaN   \n",
       "\n",
       "       withdrawal_other_reg  withdrawal_unreg  replacement_rate_db  \\\n",
       "byear                                                                \n",
       "1980                    NaN               NaN                  NaN   \n",
       "\n",
       "       rate_employee_db  income_previous_db  init_dc  rate_employee_dc  \\\n",
       "byear                                                                    \n",
       "1980                NaN                 NaN      NaN               NaN   \n",
       "\n",
       "       rate_employer_dc  s_byear  s_sex  s_ret_age  s_education  s_init_wage  \\\n",
       "byear                                                                          \n",
       "1980                NaN      NaN    NaN        NaN          NaN          NaN   \n",
       "\n",
       "       s_pension  s_bal_rrsp  s_bal_tfsa  s_bal_other_reg  s_bal_unreg  \\\n",
       "byear                                                                    \n",
       "1980         NaN         NaN         NaN              NaN          NaN   \n",
       "\n",
       "       s_cont_rate_rrsp  s_cont_rate_tfsa  s_cont_rate_other_reg  \\\n",
       "byear                                                              \n",
       "1980                NaN               NaN                    NaN   \n",
       "\n",
       "       s_cont_rate_unreg  s_withdrawal_rrsp  s_withdrawal_tfsa  \\\n",
       "byear                                                            \n",
       "1980                 NaN                NaN                NaN   \n",
       "\n",
       "       s_withdrawal_other_reg  s_withdrawal_unreg  s_replacement_rate_db  \\\n",
       "byear                                                                      \n",
       "1980                      NaN                 NaN                    NaN   \n",
       "\n",
       "       s_rate_employee_db  s_income_previous_db  s_init_dc  \\\n",
       "byear                                                        \n",
       "1980                  NaN                   NaN        NaN   \n",
       "\n",
       "       s_rate_employee_dc  s_rate_employer_dc  weight  couple prov  \\\n",
       "byear                                                                \n",
       "1980                  NaN                 NaN     0.0   False   qc   \n",
       "\n",
       "       first_residence  second_residence  price_first_residence  \\\n",
       "byear                                                             \n",
       "1980               NaN               NaN                    NaN   \n",
       "\n",
       "       price_second_residence  business  price_business  mix_bonds  mix_bills  \\\n",
       "byear                                                                           \n",
       "1980                      NaN       NaN             NaN        0.0        0.0   \n",
       "\n",
       "       mix_equity  fee  fee_equity  credit_card  personal_loan  student_loan  \\\n",
       "byear                                                                          \n",
       "1980          0.0  0.0         0.0          NaN            NaN           NaN   \n",
       "\n",
       "       car_loan  credit_line  first_mortgage  second_mortgage  other_debt  \\\n",
       "byear                                                                       \n",
       "1980        NaN          NaN             NaN              NaN         NaN   \n",
       "\n",
       "       credit_card_payment  personal_loan_payment  student_loan_payment  \\\n",
       "byear                                                                     \n",
       "1980                   NaN                    NaN                   NaN   \n",
       "\n",
       "       car_loan_payment  credit_line_payment  first_mortgage_payment  \\\n",
       "byear                                                                  \n",
       "1980                NaN                  NaN                     NaN   \n",
       "\n",
       "       second_mortgage_payment  other_debt_payment  claim_age_cpp  \\\n",
       "byear                                                               \n",
       "1980                       NaN                 NaN           65.0   \n",
       "\n",
       "       s_claim_age_cpp  cap_gains_unreg  s_cap_gains_unreg  \\\n",
       "byear                                                        \n",
       "1980               NaN                0                  0   \n",
       "\n",
       "       realized_losses_unreg  s_realized_losses_unreg  init_room_rrsp  \\\n",
       "byear                                                                   \n",
       "1980                       0                        0               0   \n",
       "\n",
       "       init_room_tfsa  s_init_room_rrsp  s_init_room_tfsa  \n",
       "byear                                                      \n",
       "1980                0               NaN               NaN  "
      ]
     },
     "execution_count": 4,
     "metadata": {},
     "output_type": "execute_result"
    }
   ],
   "source": [
    "#from CPR import analysis\n",
    "import analysis\n",
    "\n",
    "#inputs = analysis.get_dataset()\n",
    "#inputs = (pd.read_csv('C:/Users/roger/Documents/GitHub/CPR/CPR_out/CPR/data/inputs/synth_inputs.csv',index_col=0))[:25]\n",
    "#inputs = (pd.read_csv('C:/Users/roger/Documents/GitHub/CPR/CPR_out/inputs.csv',index_col=0))[332:333]\n",
    "#inputs = pd.read_csv('C:/Users/roger/Documents/GitHub/CPR/CPR/Notebooks/my_inputs.csv',index_col=0)\n",
    "\n",
    "#inputs = pd.read_csv('C:/Users/roger/Documents/GitHub/CPR/CPR_out/my_inputs.csv',index_col=0)\n",
    "inputs = pd.read_csv('./my_inputs.csv',index_col=0)\n",
    "\n",
    "inputs.head(2)"
   ]
  },
  {
   "cell_type": "markdown",
   "metadata": {
    "ExecuteTime": {
     "end_time": "2020-09-25T03:04:41.778347Z",
     "start_time": "2020-09-25T03:04:41.597799Z"
    }
   },
   "source": [
    "# Run model\n",
    "Deterministic model and stochastic model with 25 simulations"
   ]
  },
  {
   "cell_type": "code",
   "execution_count": 5,
   "metadata": {
    "ExecuteTime": {
     "end_time": "2020-09-29T13:08:28.786466Z",
     "start_time": "2020-09-29T13:06:59.823973Z"
    }
   },
   "outputs": [
    {
     "ename": "ModuleNotFoundError",
     "evalue": "No module named 'CPR'",
     "output_type": "error",
     "traceback": [
      "\u001b[0;31m---------------------------------------------------------------------------\u001b[0m",
      "\u001b[0;31mModuleNotFoundError\u001b[0m                       Traceback (most recent call last)",
      "Input \u001b[0;32mIn [5]\u001b[0m, in \u001b[0;36m<cell line: 4>\u001b[0;34m()\u001b[0m\n\u001b[1;32m      1\u001b[0m \u001b[38;5;66;03m#from CPR import main\u001b[39;00m\n\u001b[1;32m      2\u001b[0m \u001b[38;5;28;01mimport\u001b[39;00m \u001b[38;5;21;01mmain\u001b[39;00m\n\u001b[0;32m----> 4\u001b[0m res_deter \u001b[38;5;241m=\u001b[39m \u001b[43mmain\u001b[49m\u001b[38;5;241;43m.\u001b[39;49m\u001b[43mrun_simulations\u001b[49m\u001b[43m(\u001b[49m\u001b[43minputs\u001b[49m\u001b[43m,\u001b[49m\u001b[43m \u001b[49m\u001b[38;5;241;43m1\u001b[39;49m\u001b[43m,\u001b[49m\u001b[43m \u001b[49m\u001b[43mnon_stochastic\u001b[49m\u001b[38;5;241;43m=\u001b[39;49m\u001b[38;5;28;43;01mTrue\u001b[39;49;00m\u001b[43m)\u001b[49m\n\u001b[1;32m      5\u001b[0m res_deter\u001b[38;5;241m.\u001b[39msummarize()\n",
      "File \u001b[0;32m~/CEDIA Dropbox/Tessa LoRiggio/RSI/CPR_master/CPR/main.py:56\u001b[0m, in \u001b[0;36mrun_simulations\u001b[0;34m(inputs, nsim, non_stochastic, n_jobs, **extra_params)\u001b[0m\n\u001b[1;32m     53\u001b[0m     nsim \u001b[38;5;241m=\u001b[39m \u001b[38;5;241m1\u001b[39m\n\u001b[1;32m     55\u001b[0m common \u001b[38;5;241m=\u001b[39m macro\u001b[38;5;241m.\u001b[39mCommonParameters(nsim, non_stochastic, extra_params)\n\u001b[0;32m---> 56\u001b[0m prices \u001b[38;5;241m=\u001b[39m \u001b[43mmacro\u001b[49m\u001b[38;5;241;43m.\u001b[39;49m\u001b[43mPrices\u001b[49m\u001b[43m(\u001b[49m\u001b[43mcommon\u001b[49m\u001b[43m,\u001b[49m\u001b[43m \u001b[49m\u001b[43mextra_params\u001b[49m\u001b[43m)\u001b[49m\n\u001b[1;32m     58\u001b[0m \u001b[38;5;28;01mif\u001b[39;00m \u001b[38;5;28mtype\u001b[39m(inputs) \u001b[38;5;129;01mis\u001b[39;00m pd\u001b[38;5;241m.\u001b[39mSeries:\n\u001b[1;32m     59\u001b[0m     d_input \u001b[38;5;241m=\u001b[39m inputs\u001b[38;5;241m.\u001b[39mto_frame()\u001b[38;5;241m.\u001b[39mto_dict()\n",
      "File \u001b[0;32m~/CEDIA Dropbox/Tessa LoRiggio/RSI/CPR_master/Notebooks/../CPR/macro.py:132\u001b[0m, in \u001b[0;36mPrices.__init__\u001b[0;34m(self, common, extra_params)\u001b[0m\n\u001b[1;32m    130\u001b[0m \u001b[38;5;28;01melse\u001b[39;00m:\n\u001b[1;32m    131\u001b[0m     \u001b[38;5;28;01mwith\u001b[39;00m \u001b[38;5;28mopen\u001b[39m(module_dir \u001b[38;5;241m+\u001b[39m path_factors \u001b[38;5;241m+\u001b[39m \u001b[38;5;124m'\u001b[39m\u001b[38;5;124md_factors.pickle\u001b[39m\u001b[38;5;124m'\u001b[39m, \u001b[38;5;124m'\u001b[39m\u001b[38;5;124mrb\u001b[39m\u001b[38;5;124m'\u001b[39m) \u001b[38;5;28;01mas\u001b[39;00m file:\n\u001b[0;32m--> 132\u001b[0m         \u001b[38;5;28mself\u001b[39m\u001b[38;5;241m.\u001b[39md_factors \u001b[38;5;241m=\u001b[39m \u001b[43mpickle\u001b[49m\u001b[38;5;241;43m.\u001b[39;49m\u001b[43mload\u001b[49m\u001b[43m(\u001b[49m\u001b[43mfile\u001b[49m\u001b[43m)\u001b[49m\n",
      "\u001b[0;31mModuleNotFoundError\u001b[0m: No module named 'CPR'"
     ]
    }
   ],
   "source": [
    "#from CPR import main\n",
    "import main\n",
    "\n",
    "res_deter = main.run_simulations(inputs, 1, non_stochastic=True)\n",
    "res_deter.summarize()"
   ]
  },
  {
   "cell_type": "code",
   "execution_count": null,
   "metadata": {
    "ExecuteTime": {
     "end_time": "2020-09-29T13:19:47.135159Z",
     "start_time": "2020-09-29T13:08:28.788460Z"
    }
   },
   "outputs": [],
   "source": [
    "res_stoch = main.run_simulations(inputs, 25, non_stochastic=False)\n",
    "res_stoch.summarize()"
   ]
  },
  {
   "cell_type": "markdown",
   "metadata": {},
   "source": [
    "# Analyse results"
   ]
  },
  {
   "cell_type": "markdown",
   "metadata": {},
   "source": [
    "## See output"
   ]
  },
  {
   "cell_type": "code",
   "execution_count": null,
   "metadata": {
    "ExecuteTime": {
     "end_time": "2020-09-29T13:19:47.204001Z",
     "start_time": "2020-09-29T13:19:47.137154Z"
    }
   },
   "outputs": [],
   "source": [
    "res_deter.output.head()"
   ]
  },
  {
   "cell_type": "code",
   "execution_count": null,
   "metadata": {},
   "outputs": [],
   "source": [
    "#stop"
   ]
  },
  {
   "cell_type": "markdown",
   "metadata": {},
   "source": [
    "## Merge with input and check preparedness"
   ]
  },
  {
   "cell_type": "code",
   "execution_count": null,
   "metadata": {
    "ExecuteTime": {
     "end_time": "2020-09-29T13:19:47.394470Z",
     "start_time": "2020-09-29T13:19:47.205969Z"
    }
   },
   "outputs": [],
   "source": [
    "res_deter.check_preparedness()\n",
    "df = res_deter.df_merged\n",
    "\n",
    "print(f'percentage people prepared in sample: {df.prepared.mean() * 100}%')"
   ]
  },
  {
   "cell_type": "markdown",
   "metadata": {},
   "source": [
    "## RRI distribution"
   ]
  },
  {
   "cell_type": "code",
   "execution_count": null,
   "metadata": {
    "ExecuteTime": {
     "end_time": "2020-09-29T13:19:47.664396Z",
     "start_time": "2020-09-29T13:19:47.398456Z"
    },
    "scrolled": true
   },
   "outputs": [],
   "source": [
    "sns.set()\n",
    "ax = df.rri[df.rri < 500].hist()\n",
    "ax.set_title('RRI distribution')\n",
    "plt.show()"
   ]
  },
  {
   "cell_type": "markdown",
   "metadata": {},
   "source": [
    "## Risk\n",
    "### Preparation rate at aggregate level"
   ]
  },
  {
   "cell_type": "code",
   "execution_count": null,
   "metadata": {
    "ExecuteTime": {
     "end_time": "2020-09-29T13:19:55.182741Z",
     "start_time": "2020-09-29T13:19:47.667394Z"
    }
   },
   "outputs": [],
   "source": [
    "res_stoch.check_preparedness()\n",
    "df = res_stoch.df_merged"
   ]
  },
  {
   "cell_type": "code",
   "execution_count": null,
   "metadata": {
    "ExecuteTime": {
     "end_time": "2020-09-29T13:19:55.422127Z",
     "start_time": "2020-09-29T13:19:55.184736Z"
    }
   },
   "outputs": [],
   "source": [
    "ax = df.groupby('sim')['prepared'].mean().hist()\n",
    "ax.grid()\n",
    "ax.set_title('rri distribution')\n",
    "ax.set_xlabel('percentage people prepared')\n",
    "ax.grid()\n",
    "plt.show()"
   ]
  },
  {
   "cell_type": "markdown",
   "metadata": {},
   "source": [
    "## Experiments"
   ]
  },
  {
   "cell_type": "markdown",
   "metadata": {},
   "source": [
    "### Selling first residence"
   ]
  },
  {
   "cell_type": "code",
   "execution_count": null,
   "metadata": {
    "ExecuteTime": {
     "end_time": "2020-09-29T13:21:23.046981Z",
     "start_time": "2020-09-29T13:21:23.023063Z"
    }
   },
   "outputs": [],
   "source": [
    "vars(res_deter.common)"
   ]
  },
  {
   "cell_type": "code",
   "execution_count": null,
   "metadata": {
    "ExecuteTime": {
     "end_time": "2020-09-29T13:25:24.708560Z",
     "start_time": "2020-09-29T13:24:18.612122Z"
    }
   },
   "outputs": [],
   "source": [
    "res_not_selling = main.run_simulations(inputs, 1, non_stochastic=True,\n",
    "                                       sell_first_resid=False)\n",
    "res_not_selling.summarize()\n",
    "res_not_selling.check_preparedness()\n",
    "df = res_not_selling.df_merged\n",
    "\n",
    "print(f'\\npercentage people prepared without selling house: {df.prepared.mean() * 100:.2f}%')\n",
    "\n",
    "res_selling = main.run_simulations(inputs, 1, non_stochastic=True,\n",
    "                                   sell_first_resid=True)\n",
    "res_selling.summarize()\n",
    "res_selling.check_preparedness()\n",
    "df = res_selling.df_merged\n",
    "\n",
    "print(f'\\npercentage people prepared when selling house: {df.prepared.mean() * 100:.2f}%')"
   ]
  },
  {
   "cell_type": "code",
   "execution_count": null,
   "metadata": {
    "ExecuteTime": {
     "end_time": "2020-09-29T13:25:24.759386Z",
     "start_time": "2020-09-29T13:25:24.710512Z"
    }
   },
   "outputs": [],
   "source": [
    "vars(res_deter.prices)"
   ]
  },
  {
   "cell_type": "code",
   "execution_count": null,
   "metadata": {
    "ExecuteTime": {
     "end_time": "2020-09-29T13:31:21.471168Z",
     "start_time": "2020-09-29T13:25:24.762377Z"
    }
   },
   "outputs": [],
   "source": [
    "mu_equity_bm = res_deter.prices.mu_equity\n",
    "mu_bills_bm = res_deter.prices.mu_bills\n",
    "mu_bonds_bm = res_deter.prices.mu_bonds\n",
    "\n",
    "factors = np.linspace(0, 2, 10)\n",
    "\n",
    "l_prepared = []\n",
    "for factor in factors:\n",
    "    res = main.run_simulations(inputs, 1, non_stochastic=True,\n",
    "                               mu_equity=factor * mu_equity_bm,\n",
    "                               mu_bills=factor * mu_bills_bm,\n",
    "                               mu_bonds=factor * mu_bonds_bm)\n",
    "    res.check_preparedness()\n",
    "    l_prepared.append(res.df_merged.prepared.mean())    "
   ]
  },
  {
   "cell_type": "code",
   "execution_count": null,
   "metadata": {
    "ExecuteTime": {
     "end_time": "2020-09-29T13:31:21.738418Z",
     "start_time": "2020-09-29T13:31:21.473126Z"
    }
   },
   "outputs": [],
   "source": [
    "plt.plot(factors, l_prepared)\n",
    "plt.title('changes in returns')\n",
    "plt.xlabel('factor')\n",
    "plt.ylabel('percentage prepared')\n",
    "plt.show()"
   ]
  },
  {
   "cell_type": "markdown",
   "metadata": {},
   "source": [
    "# Using CPR with other inputs\n",
    "\n",
    "More info on the variables here: http://ire.hec.ca/en/wp-content/uploads/sites/3/2020/06/cpr-report-2020-final.pdf"
   ]
  },
  {
   "cell_type": "code",
   "execution_count": null,
   "metadata": {
    "ExecuteTime": {
     "end_time": "2020-09-29T13:31:21.825405Z",
     "start_time": "2020-09-29T13:31:21.740412Z"
    }
   },
   "outputs": [],
   "source": [
    "inputs.head()"
   ]
  },
  {
   "cell_type": "code",
   "execution_count": null,
   "metadata": {
    "ExecuteTime": {
     "end_time": "2020-09-29T13:40:06.806119Z",
     "start_time": "2020-09-29T13:40:06.791152Z"
    }
   },
   "outputs": [],
   "source": [
    "# saving copy of dataframe\n",
    "inputs.iloc[0, :].to_frame().T.to_csv('my_inputs.csv', index=False)"
   ]
  },
  {
   "cell_type": "code",
   "execution_count": null,
   "metadata": {
    "ExecuteTime": {
     "end_time": "2020-09-29T13:40:08.970388Z",
     "start_time": "2020-09-29T13:40:08.955459Z"
    }
   },
   "outputs": [],
   "source": [
    "my_inputs = pd.read_csv('my_inputs.csv')"
   ]
  },
  {
   "cell_type": "code",
   "execution_count": null,
   "metadata": {
    "ExecuteTime": {
     "end_time": "2020-09-29T13:40:17.789649Z",
     "start_time": "2020-09-29T13:40:10.945832Z"
    }
   },
   "outputs": [],
   "source": [
    "my_res = main.run_simulations(my_inputs, 100, non_stochastic=False)\n",
    "my_res.check_preparedness()\n",
    "df = my_res.df_merged\n",
    "\n",
    "df.prepared.value_counts(normalize=True)"
   ]
  },
  {
   "cell_type": "code",
   "execution_count": null,
   "metadata": {
    "ExecuteTime": {
     "end_time": "2020-09-29T13:40:18.068944Z",
     "start_time": "2020-09-29T13:40:17.791642Z"
    }
   },
   "outputs": [],
   "source": [
    "ax = sns.distplot(df.loc[df.rri<500, 'rri'])\n",
    "ax.grid()\n",
    "ax.set_title('rri distribution')\n",
    "ax.grid()\n",
    "plt.show()"
   ]
  }
 ],
 "metadata": {
  "kernelspec": {
   "display_name": "Python 3 (ipykernel)",
   "language": "python",
   "name": "python3"
  },
  "language_info": {
   "codemirror_mode": {
    "name": "ipython",
    "version": 3
   },
   "file_extension": ".py",
   "mimetype": "text/x-python",
   "name": "python",
   "nbconvert_exporter": "python",
   "pygments_lexer": "ipython3",
   "version": "3.9.12"
  },
  "toc": {
   "base_numbering": 1,
   "nav_menu": {},
   "number_sections": true,
   "sideBar": true,
   "skip_h1_title": false,
   "title_cell": "Table of Contents",
   "title_sidebar": "Contents",
   "toc_cell": false,
   "toc_position": {
    "height": "calc(100% - 180px)",
    "left": "10px",
    "top": "150px",
    "width": "165px"
   },
   "toc_section_display": true,
   "toc_window_display": false
  },
  "vscode": {
   "interpreter": {
    "hash": "9909264b6bdbca3045af8bd3e6a0b6c0c29d38c2a192ba1c83bb2539a765db59"
   }
  }
 },
 "nbformat": 4,
 "nbformat_minor": 4
}

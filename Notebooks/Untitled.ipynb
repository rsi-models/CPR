{
 "cells": [
  {
   "cell_type": "code",
   "execution_count": 1,
   "metadata": {
    "ExecuteTime": {
     "end_time": "2020-09-01T20:27:51.286081Z",
     "start_time": "2020-09-01T20:27:49.351995Z"
    }
   },
   "outputs": [
    {
     "name": "stdout",
     "output_type": "stream",
     "text": [
      "['C:\\\\Users\\\\pyann\\\\Dropbox (CEDIA)\\\\CPR\\\\Model\\\\CPR\\\\Notebooks', 'C:\\\\Users\\\\pyann\\\\Dropbox (CEDIA)\\\\CPR\\\\Model', 'C:\\\\Users\\\\pyann\\\\anaconda3\\\\python37.zip', 'C:\\\\Users\\\\pyann\\\\anaconda3\\\\DLLs', 'C:\\\\Users\\\\pyann\\\\anaconda3\\\\lib', 'C:\\\\Users\\\\pyann\\\\anaconda3', '', 'C:\\\\Users\\\\pyann\\\\AppData\\\\Roaming\\\\Python\\\\Python37\\\\site-packages', 'C:\\\\Users\\\\pyann\\\\anaconda3\\\\lib\\\\site-packages', 'C:\\\\Users\\\\pyann\\\\anaconda3\\\\lib\\\\site-packages\\\\pip-20.2b1-py3.7.egg', 'C:\\\\Users\\\\pyann\\\\anaconda3\\\\lib\\\\site-packages\\\\win32', 'C:\\\\Users\\\\pyann\\\\anaconda3\\\\lib\\\\site-packages\\\\win32\\\\lib', 'C:\\\\Users\\\\pyann\\\\anaconda3\\\\lib\\\\site-packages\\\\Pythonwin', 'C:\\\\Users\\\\pyann\\\\anaconda3\\\\lib\\\\site-packages\\\\IPython\\\\extensions', 'C:\\\\Users\\\\pyann\\\\.ipython']\n"
     ]
    }
   ],
   "source": [
    "import sys\n",
    "import pandas as pd\n",
    "\n",
    "path = r'C:\\Users\\pyann\\Dropbox (CEDIA)\\CPR\\Model'\n",
    "sys.path.insert(1, path)\n",
    "print(sys.path)\n",
    "from CPR import main"
   ]
  },
  {
   "cell_type": "code",
   "execution_count": 11,
   "metadata": {
    "ExecuteTime": {
     "end_time": "2020-09-01T20:25:51.521192Z",
     "start_time": "2020-09-01T20:24:18.632588Z"
    },
    "scrolled": true
   },
   "outputs": [
    {
     "name": "stdout",
     "output_type": "stream",
     "text": [
      "total time: 92.28967905044556\n",
      "\n",
      "Deterministic Model\n",
      "\n",
      "Extra parameters:\n",
      "multiprocessing: True\n",
      "recompute_factors: False\n",
      "0.8567618540310574\n"
     ]
    }
   ],
   "source": [
    "import numpy as np\n",
    "\n",
    "df = pd.read_csv(path + '/CPR/data/inputs/inputs.csv', index_col=0)\n",
    "inputs = df.loc[:, :]\n",
    "\n",
    "sim_num = 1\n",
    "\n",
    "results = main.run_simulations(inputs, sim_num, non_stochastic=True,\n",
    "                               multiprocessing=True, recompute_factors=False)\n",
    "results.check_preparedness(factor_couple=np.sqrt(2))\n",
    "results.summarize()\n",
    "\n",
    "prepared = results.df_merged.prepared\n",
    "weight = results.df_merged.weight\n",
    "print(np.average(prepared, weights= weight))"
   ]
  },
  {
   "cell_type": "code",
   "execution_count": 5,
   "metadata": {
    "ExecuteTime": {
     "end_time": "2020-09-01T20:19:33.556971Z",
     "start_time": "2020-09-01T20:19:33.552983Z"
    }
   },
   "outputs": [],
   "source": [
    "from CPR import analysis"
   ]
  },
  {
   "cell_type": "code",
   "execution_count": 6,
   "metadata": {
    "ExecuteTime": {
     "end_time": "2020-09-01T20:19:43.556231Z",
     "start_time": "2020-09-01T20:19:43.473452Z"
    }
   },
   "outputs": [],
   "source": [
    "analysis??"
   ]
  }
 ],
 "metadata": {
  "kernelspec": {
   "display_name": "Python 3",
   "language": "python",
   "name": "python3"
  },
  "language_info": {
   "codemirror_mode": {
    "name": "ipython",
    "version": 3
   },
   "file_extension": ".py",
   "mimetype": "text/x-python",
   "name": "python",
   "nbconvert_exporter": "python",
   "pygments_lexer": "ipython3",
   "version": "3.7.6"
  },
  "toc": {
   "base_numbering": 1,
   "nav_menu": {},
   "number_sections": true,
   "sideBar": true,
   "skip_h1_title": false,
   "title_cell": "Table of Contents",
   "title_sidebar": "Contents",
   "toc_cell": false,
   "toc_position": {},
   "toc_section_display": true,
   "toc_window_display": false
  }
 },
 "nbformat": 4,
 "nbformat_minor": 4
}
